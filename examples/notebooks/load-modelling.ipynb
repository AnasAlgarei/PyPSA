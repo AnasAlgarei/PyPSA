{
 "cells": [
  {
   "attachments": {},
   "cell_type": "markdown",
   "metadata": {},
   "source": [
    "# Load Shedding, Shifting and Elastic Demand"
   ]
  },
  {
   "attachments": {},
   "cell_type": "markdown",
   "metadata": {},
   "source": [
    "This example is a simple illustration that aims to explain the use of load shedding, load shifting and elastic demand in PyPSA. The example is designed to simulate a single day of electrical consumption in a small network with solar generation, which could represent a single house or a small group of houses."
   ]
  },
  {
   "cell_type": "code",
   "execution_count": null,
   "metadata": {},
   "outputs": [],
   "source": [
    "import pypsa\n",
    "import matplotlib.pyplot as plt\n",
    "import random\n",
    "import numpy as np\n",
    "import pandas as pd"
   ]
  },
  {
   "attachments": {},
   "cell_type": "markdown",
   "metadata": {},
   "source": [
    "### Create network"
   ]
  },
  {
   "cell_type": "code",
   "execution_count": null,
   "metadata": {},
   "outputs": [],
   "source": [
    "network = pypsa.Network()"
   ]
  },
  {
   "attachments": {},
   "cell_type": "markdown",
   "metadata": {},
   "source": [
    "### Build the snapshots we consider for the first T hours in 2023\n"
   ]
  },
  {
   "cell_type": "code",
   "execution_count": null,
   "metadata": {},
   "outputs": [],
   "source": [
    "network.set_snapshots(pd.date_range(\"2023-01-01 04:00\", \"2023-01-01 20:00\", freq=\"H\"))\n",
    "\n",
    "print(network.snapshots)"
   ]
  },
  {
   "attachments": {},
   "cell_type": "markdown",
   "metadata": {},
   "source": [
    "### Add fuel types"
   ]
  },
  {
   "cell_type": "code",
   "execution_count": null,
   "metadata": {},
   "outputs": [],
   "source": [
    "network.add(\"Carrier\", \"solar\")\n",
    "network.add(\"Carrier\", \"load\")\n",
    "network.add(\"Carrier\", \"battery\")"
   ]
  },
  {
   "attachments": {},
   "cell_type": "markdown",
   "metadata": {},
   "source": [
    "### Add buses"
   ]
  },
  {
   "cell_type": "code",
   "execution_count": null,
   "metadata": {},
   "outputs": [],
   "source": [
    "network.add(\"Bus\", \"My bus\")"
   ]
  },
  {
   "attachments": {},
   "cell_type": "markdown",
   "metadata": {},
   "source": [
    "### Add generators - Load shedding"
   ]
  },
  {
   "attachments": {},
   "cell_type": "markdown",
   "metadata": {},
   "source": [
    "Solar PV panel generation per unit of capacity is considered only in the daytime.\n",
    "\n",
    "\"load shedding\" is introduced as a generator to illustrate the decrease in demand, thereby enhancing the generation. It is essential when the network's generation is insufficient to fulfill the required demand"
   ]
  },
  {
   "cell_type": "code",
   "execution_count": null,
   "metadata": {},
   "outputs": [],
   "source": [
    "# Add solar generation\n",
    "pv_pu = [\n",
    "    0.0,\n",
    "    0.0,\n",
    "    0.0,\n",
    "    0.2,\n",
    "    0.4,\n",
    "    0.65,\n",
    "    0.85,\n",
    "    0.9,\n",
    "    0.85,\n",
    "    0.65,\n",
    "    0.4,\n",
    "    0.3,\n",
    "    0.2,\n",
    "    0.1,\n",
    "    0.0,\n",
    "    0.0,\n",
    "    0.0,\n",
    "]\n",
    "network.add(\n",
    "    \"Generator\",\n",
    "    \"solar\",\n",
    "    bus=\"My bus\",\n",
    "    p_nom=0.4,\n",
    "    carrier=\"solar\",\n",
    "    p_max_pu=pv_pu,\n",
    "    marginal_cost=0 + 0.01 * np.random.random(),\n",
    ")\n",
    "\n",
    "# Add load shedding as generator\n",
    "network.add(\n",
    "    \"Generator\",\n",
    "    \"load shedding\",\n",
    "    bus=\"My bus\",\n",
    "    p_nom=50,\n",
    "    carrier=\"load\",\n",
    "    p_max_pu=1.0,\n",
    "    marginal_cost=1e2,\n",
    "    p_nom_extendable=True,\n",
    ")"
   ]
  },
  {
   "attachments": {},
   "cell_type": "markdown",
   "metadata": {},
   "source": [
    "### Add constant base load values"
   ]
  },
  {
   "cell_type": "code",
   "execution_count": null,
   "metadata": {},
   "outputs": [],
   "source": [
    "load = pd.Series(0.2, index=range(17))  # constant baseload\n",
    "network.add(\"Load\", \"baseload\", bus=\"My bus\", p_set=load.values)"
   ]
  },
  {
   "attachments": {},
   "cell_type": "markdown",
   "metadata": {},
   "source": [
    "### Add storage units to the network - Load shifting"
   ]
  },
  {
   "attachments": {},
   "cell_type": "markdown",
   "metadata": {},
   "source": [
    "Storage units could be used to represent load shifting in PyPSA, where energy use is in peak hours is shifted to off-peak hours, which is a similar behaviour to discharging a storage unit in peak hours and charging it in off-peak hours.\n",
    "\n",
    "Smart thermostats can shift the timing of energy use by automatically reducing heating or cooling during peak demand periods and increasing it during off-peak periods."
   ]
  },
  {
   "cell_type": "code",
   "execution_count": null,
   "metadata": {},
   "outputs": [],
   "source": [
    "network.add(\n",
    "    \"StorageUnit\",\n",
    "    \"smart thermostat\",\n",
    "    bus=\"My bus\",\n",
    "    p_nom=0,\n",
    "    carrier=\"battery\",\n",
    "    marginal_cost=4 * np.random.random(),\n",
    "    p_nom_extendable=True,\n",
    "    p_max_pu=1,\n",
    "    p_min_pu=-1,\n",
    "    efficiency_store=0.9,\n",
    "    efficiency_dispatch=0.95,\n",
    "    standing_loss=0.01,\n",
    "    cyclic_state_of_charge=True,\n",
    "    max_hours=6,\n",
    ")"
   ]
  },
  {
   "attachments": {},
   "cell_type": "markdown",
   "metadata": {},
   "source": [
    "### Optimize the network and plot some results"
   ]
  },
  {
   "cell_type": "code",
   "execution_count": null,
   "metadata": {},
   "outputs": [],
   "source": [
    "network.lopf()"
   ]
  },
  {
   "cell_type": "code",
   "execution_count": null,
   "metadata": {},
   "outputs": [],
   "source": [
    "fig, ax = plt.subplots()\n",
    "\n",
    "network.generators_t.p.plot(ax=ax)\n",
    "network.storage_units_t.p.plot(ax=ax)\n",
    "network.loads_t.p.plot(ax=ax)\n",
    "\n",
    "ax.set_ylabel(\"Power (MW)\")"
   ]
  },
  {
   "attachments": {},
   "cell_type": "markdown",
   "metadata": {},
   "source": [
    "We can observe from the least cost solution the following:\n",
    "- The smart thermostat is increasing the demand during the peak solar generation, to save energy when there is a lack of supply\n",
    "- In the first and last hours of the day, load shedding is applied since there is not enough storage or generation available"
   ]
  },
  {
   "attachments": {},
   "cell_type": "markdown",
   "metadata": {},
   "source": [
    "## Elastic Demand"
   ]
  },
  {
   "attachments": {},
   "cell_type": "markdown",
   "metadata": {},
   "source": [
    "Elastic demand is demand that is changing with price changes. The demand response to price changes is usually nonlinear and sometimes random in the case of a human action to high or low prices. In this example, the demand was assumed as a linear response price changes, for simplicity."
   ]
  },
  {
   "attachments": {},
   "cell_type": "markdown",
   "metadata": {},
   "source": [
    "### Creating networks"
   ]
  },
  {
   "attachments": {},
   "cell_type": "markdown",
   "metadata": {},
   "source": [
    "Several networks will be created in a number of iterations that represent adjusted demand after price changes. The networks use the same inputs as the previous one except for the demand value. So the first iteration will use the original demand value that was in the previous network. Then get the price of the network from the formula in the script. Finally the adjusted demand value is calculated from the assumed linear relation, and used in the next iteration."
   ]
  },
  {
   "cell_type": "code",
   "execution_count": null,
   "metadata": {},
   "outputs": [],
   "source": [
    "base_load = 0.2\n",
    "all_networks = []\n",
    "\n",
    "for _ in range(6):\n",
    "    network = pypsa.Network()\n",
    "    network.set_snapshots(pd.date_range(\"2023-01-01 04:00\", \"2023-01-01 20:00\", freq=\"H\"))\n",
    "    network.add(\"Carrier\", \"solar\")\n",
    "    network.add(\"Carrier\", \"load\")\n",
    "    network.add(\"Carrier\", \"battery\")\n",
    "    network.add(\"Bus\", \"My bus\")\n",
    "    pv_pu = [0.0, 0.0, 0.0, 0.2, 0.4, 0.65, 0.85, 0.9, 0.85, 0.65, 0.4, 0.3, 0.2, 0.1, 0.0, 0.0, 0.0]\n",
    "    network.add(\"Generator\", \"solar\", bus=\"My bus\", p_nom=0.4, carrier=\"solar\", p_max_pu=pv_pu,\n",
    "                marginal_cost=0 + 0.01 * np.random.random())\n",
    "    network.add(\"Generator\", \"load shedding\", bus=\"My bus\", p_nom=50, carrier=\"load\", p_max_pu=1.0, marginal_cost=1e2,\n",
    "                p_nom_extendable=True)\n",
    "    load = pd.Series(base_load, index=range(17))  # variable baseload based on base_load_values\n",
    "    network.add(\"Load\", \"baseload\", bus=\"My bus\", p_set=load.values)\n",
    "    network.add(\"StorageUnit\", \"smart thermostat\", bus=\"My bus\", p_nom=0, carrier=\"battery\",\n",
    "                marginal_cost=4 * np.random.random(), p_nom_extendable=True, p_max_pu=1, p_min_pu=-1,\n",
    "                efficiency_store=0.9, efficiency_dispatch=0.95, standing_loss=0.01, cyclic_state_of_charge=True,\n",
    "                max_hours=6)\n",
    "    network.lopf()\n",
    "\n",
    "    # Estimated price of the network in euros per MWh\n",
    "    network_cost_per_MWh = (network.objective + network.objective_constant) / network.loads_t.p.sum().sum()\n",
    "    \n",
    "    # assuming a linear demand response to price\n",
    "    new_load = (network_cost_per_MWh - 120) / -300\n",
    "    base_load = new_load\n",
    "    \n",
    "    all_networks.append(network)\n"
   ]
  },
  {
   "attachments": {},
   "cell_type": "markdown",
   "metadata": {},
   "source": [
    "### Demand and price values from the created networks"
   ]
  },
  {
   "cell_type": "code",
   "execution_count": null,
   "metadata": {},
   "outputs": [],
   "source": [
    "average_loads = []\n",
    "prices = []\n",
    "for n in all_networks:\n",
    "    average_loads.append(n.loads_t.p.mean().sum())\n",
    "    prices.append((n.objective + n.objective_constant) / n.loads_t.p.sum().sum())"
   ]
  },
  {
   "attachments": {},
   "cell_type": "markdown",
   "metadata": {},
   "source": [
    "### Plotting demand against price"
   ]
  },
  {
   "cell_type": "code",
   "execution_count": null,
   "metadata": {},
   "outputs": [],
   "source": [
    "first_demand_iteration = average_loads[0]\n",
    "updated_average_loads = average_loads[1:] # demand value in first iteration didn't have a price\n",
    "updated_prices = prices[:-1] # last price value wasn't used\n",
    "\n",
    "# Scatter plot of the points\n",
    "plt.scatter(updated_average_loads, updated_prices, label='Elastic demand') \n",
    "\n",
    "# Add numbers to each point\n",
    "for i, (x, y) in enumerate(zip(updated_average_loads, updated_prices)):\n",
    "    plt.annotate('Iteration '+str(i + 1), (x, y), textcoords=\"offset points\", xytext=(30, 5), ha='center')\n",
    "\n",
    "# Fit a linear curve to the data\n",
    "slope, intercept = np.polyfit(updated_average_loads, updated_prices, 1)\n",
    "\n",
    "# Linear curve\n",
    "x = np.linspace(min(updated_average_loads), max(updated_average_loads), 100)\n",
    "y = slope * x + intercept\n",
    "plt.plot(x, y, label=f'Linear curve', color='blue')\n",
    "\n",
    "plt.xlabel('Demand (MW)')\n",
    "plt.ylabel('Price (Euro/MWh)')\n",
    "plt.title('Elasticity Curve')\n",
    "plt.legend(loc='upper right')\n",
    "plt.xlim([0.15, 0.35])\n",
    "plt.ylim([35, 60])\n",
    "plt.plot(x, y)\n",
    "plt.show()"
   ]
  },
  {
   "attachments": {},
   "cell_type": "markdown",
   "metadata": {},
   "source": [
    "We can observe from the elastic demand the following:\n",
    "- The initial base demand of 0.2 resulted in a price that leads the system to increase demand to around 0.27, meaning such price is considered a bit low.\n",
    "- The next price resulting from the 0.27 demand is considered high. Therefore, the next iteration would lower the demand, thus lowering the price.\n",
    "- This keeps going until the demand converges to a value around 0.24, which is the equilibrium of the assumed linear relationship."
   ]
  }
 ],
 "metadata": {
  "kernelspec": {
   "display_name": "pypsa",
   "language": "python",
   "name": "python3"
  },
  "language_info": {
   "codemirror_mode": {
    "name": "ipython",
    "version": 3
   },
   "file_extension": ".py",
   "mimetype": "text/x-python",
   "name": "python",
   "nbconvert_exporter": "python",
   "pygments_lexer": "ipython3",
   "version": "3.11.2"
  },
  "orig_nbformat": 4
 },
 "nbformat": 4,
 "nbformat_minor": 2
}
