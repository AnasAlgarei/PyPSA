{
 "cells": [
  {
   "attachments": {},
   "cell_type": "markdown",
   "metadata": {},
   "source": [
    "# Load Shedding and Shifting Example"
   ]
  },
  {
   "attachments": {},
   "cell_type": "markdown",
   "metadata": {},
   "source": [
    "This example is a simple illustration that aims to explain the use of load shedding and load shifting in PyPSA. The example is designed to simulate a single day of electrical consumption in a small network with solar generation, which could represent a single house or a small group of houses."
   ]
  },
  {
   "cell_type": "code",
   "execution_count": null,
   "metadata": {},
   "outputs": [],
   "source": [
    "import pypsa\n",
    "import matplotlib.pyplot as plt\n",
    "import random\n",
    "import numpy as np\n",
    "import pandas as pd"
   ]
  },
  {
   "attachments": {},
   "cell_type": "markdown",
   "metadata": {},
   "source": [
    "### Create network"
   ]
  },
  {
   "cell_type": "code",
   "execution_count": null,
   "metadata": {},
   "outputs": [],
   "source": [
    "network = pypsa.Network()"
   ]
  },
  {
   "attachments": {},
   "cell_type": "markdown",
   "metadata": {},
   "source": [
    "### Build the snapshots we consider for the first T hours in 2023\n"
   ]
  },
  {
   "cell_type": "code",
   "execution_count": null,
   "metadata": {},
   "outputs": [],
   "source": [
    "network.set_snapshots(pd.date_range(\"2023-01-01 04:00\", \"2023-01-01 20:00\", freq=\"H\"))\n",
    "\n",
    "print(network.snapshots)"
   ]
  },
  {
   "attachments": {},
   "cell_type": "markdown",
   "metadata": {},
   "source": [
    "### Add fuel types"
   ]
  },
  {
   "cell_type": "code",
   "execution_count": null,
   "metadata": {},
   "outputs": [],
   "source": [
    "network.add(\"Carrier\", \"solar\")\n",
    "network.add(\"Carrier\", \"load\")\n",
    "network.add(\"Carrier\", \"battery\")"
   ]
  },
  {
   "attachments": {},
   "cell_type": "markdown",
   "metadata": {},
   "source": [
    "### Add buses"
   ]
  },
  {
   "cell_type": "code",
   "execution_count": null,
   "metadata": {},
   "outputs": [],
   "source": [
    "network.add(\"Bus\", \"My bus\")"
   ]
  },
  {
   "attachments": {},
   "cell_type": "markdown",
   "metadata": {},
   "source": [
    "### Add generators"
   ]
  },
  {
   "attachments": {},
   "cell_type": "markdown",
   "metadata": {},
   "source": [
    "Solar PV panel generation per unit of capacity is considered only in the daytime.\n",
    "\n",
    "\"load shedding\" is introduced as a generator to illustrate the decrease in demand, thereby enhancing the generation. It is essential when the network's generation is insufficient to fulfill the required demand"
   ]
  },
  {
   "cell_type": "code",
   "execution_count": null,
   "metadata": {},
   "outputs": [],
   "source": [
    "# Add solar generation\n",
    "pv_pu = [\n",
    "    0.0,\n",
    "    0.0,\n",
    "    0.0,\n",
    "    0.2,\n",
    "    0.4,\n",
    "    0.65,\n",
    "    0.85,\n",
    "    0.9,\n",
    "    0.85,\n",
    "    0.65,\n",
    "    0.4,\n",
    "    0.3,\n",
    "    0.2,\n",
    "    0.1,\n",
    "    0.0,\n",
    "    0.0,\n",
    "    0.0,\n",
    "]\n",
    "network.add(\n",
    "    \"Generator\",\n",
    "    \"solar\",\n",
    "    bus=\"My bus\",\n",
    "    p_nom=0.4,\n",
    "    carrier=\"solar\",\n",
    "    p_max_pu=pv_pu,\n",
    "    marginal_cost=0 + 0.01 * np.random.random(),\n",
    ")\n",
    "\n",
    "# Add load shedding as generator\n",
    "network.add(\n",
    "    \"Generator\",\n",
    "    \"load shedding\",\n",
    "    bus=\"My bus\",\n",
    "    p_nom=50,\n",
    "    carrier=\"load\",\n",
    "    p_max_pu=1.0,\n",
    "    marginal_cost=1e2,\n",
    "    p_nom_extendable=True,\n",
    ")"
   ]
  },
  {
   "attachments": {},
   "cell_type": "markdown",
   "metadata": {},
   "source": [
    "### Add constant base load values"
   ]
  },
  {
   "cell_type": "code",
   "execution_count": null,
   "metadata": {},
   "outputs": [],
   "source": [
    "load = pd.Series(0.2, index=range(17))  # constant baseload\n",
    "network.add(\"Load\", \"baseload\", bus=\"My bus\", p_set=load.values)"
   ]
  },
  {
   "attachments": {},
   "cell_type": "markdown",
   "metadata": {},
   "source": [
    "### Add storage units to the network"
   ]
  },
  {
   "attachments": {},
   "cell_type": "markdown",
   "metadata": {},
   "source": [
    "Storage units could be used to represent load shifting in PyPSA, where energy use is in peak hours is shifted to off-peak hours, which is a similar behaviour to discharging a storage unit in peak hours and charging it in off-peak hours.\n",
    "\n",
    "Smart thermostats can shift the timing of energy use by automatically reducing heating or cooling during peak demand periods and increasing it during off-peak periods."
   ]
  },
  {
   "cell_type": "code",
   "execution_count": null,
   "metadata": {},
   "outputs": [],
   "source": [
    "network.add(\n",
    "    \"StorageUnit\",\n",
    "    \"smart thermostat\",\n",
    "    bus=\"My bus\",\n",
    "    p_nom=0,\n",
    "    carrier=\"battery\",\n",
    "    marginal_cost=4 * np.random.random(),\n",
    "    p_nom_extendable=True,\n",
    "    p_max_pu=1,\n",
    "    p_min_pu=-1,\n",
    "    efficiency_store=0.9,\n",
    "    efficiency_dispatch=0.95,\n",
    "    standing_loss=0.01,\n",
    "    cyclic_state_of_charge=True,\n",
    "    max_hours=6,\n",
    ")"
   ]
  },
  {
   "attachments": {},
   "cell_type": "markdown",
   "metadata": {},
   "source": [
    "### Optimize the network and plot some results"
   ]
  },
  {
   "cell_type": "code",
   "execution_count": null,
   "metadata": {},
   "outputs": [],
   "source": [
    "network.lopf()"
   ]
  },
  {
   "cell_type": "code",
   "execution_count": null,
   "metadata": {},
   "outputs": [],
   "source": [
    "fig, ax = plt.subplots()\n",
    "\n",
    "network.generators_t.p.plot(ax=ax)\n",
    "network.storage_units_t.p.plot(ax=ax)\n",
    "network.loads_t.p.plot(ax=ax)\n",
    "\n",
    "ax.set_ylabel(\"Power (MW)\")"
   ]
  },
  {
   "attachments": {},
   "cell_type": "markdown",
   "metadata": {},
   "source": [
    "We can observe from the least cost solution the following:\n",
    "- The smart thermostat is increasing the demand during the peak solar generation, to save energy when there is a lack of supply\n",
    "- In the first and last hours of the day, load shedding is applied since there is not enough storage or generation available"
   ]
  },
  {
   "cell_type": "code",
   "execution_count": null,
   "metadata": {},
   "outputs": [],
   "source": [
    "network_cost_per_MWh = (\n",
    "    network.objective + network.objective_constant\n",
    ") / network.loads_t.p.sum().sum()\n",
    "new_demand = (network_cost_per_MWh - 100) / -300"
   ]
  },
  {
   "attachments": {},
   "cell_type": "markdown",
   "metadata": {},
   "source": [
    "For simplicity, assuming a linear relationship between price and demand"
   ]
  },
  {
   "cell_type": "code",
   "execution_count": null,
   "metadata": {},
   "outputs": [],
   "source": [
    "# Setting up the network while chnging the load\n",
    "network = pypsa.Network()\n",
    "network.set_snapshots(pd.date_range(\"2023-01-01 04:00\", \"2023-01-01 20:00\", freq=\"H\"))\n",
    "network.add(\"Carrier\", \"solar\")\n",
    "network.add(\"Carrier\", \"load\")\n",
    "network.add(\"Carrier\", \"battery\")\n",
    "network.add(\"Bus\", \"My bus\")\n",
    "pv_pu = [\n",
    "    0.0,\n",
    "    0.0,\n",
    "    0.0,\n",
    "    0.2,\n",
    "    0.4,\n",
    "    0.65,\n",
    "    0.85,\n",
    "    0.9,\n",
    "    0.85,\n",
    "    0.65,\n",
    "    0.4,\n",
    "    0.3,\n",
    "    0.2,\n",
    "    0.1,\n",
    "    0.0,\n",
    "    0.0,\n",
    "    0.0,\n",
    "]\n",
    "network.add(\n",
    "    \"Generator\",\n",
    "    \"solar\",\n",
    "    bus=\"My bus\",\n",
    "    p_nom=0.4,\n",
    "    carrier=\"solar\",\n",
    "    p_max_pu=pv_pu,\n",
    "    marginal_cost=0 + 0.01 * np.random.random(),\n",
    ")\n",
    "network.add(\n",
    "    \"Generator\",\n",
    "    \"load shedding\",\n",
    "    bus=\"My bus\",\n",
    "    p_nom=50,\n",
    "    carrier=\"load\",\n",
    "    p_max_pu=1.0,\n",
    "    marginal_cost=1e2,\n",
    "    p_nom_extendable=True,\n",
    ")\n",
    "load = pd.Series(0.2, index=range(17))  # constant baseload\n",
    "network.add(\"Load\", \"baseload\", bus=\"My bus\", p_set=load.values)\n",
    "network.add(\n",
    "    \"StorageUnit\",\n",
    "    \"smart thermostat\",\n",
    "    bus=\"My bus\",\n",
    "    p_nom=0,\n",
    "    carrier=\"battery\",\n",
    "    marginal_cost=4 * np.random.random(),\n",
    "    p_nom_extendable=True,\n",
    "    p_max_pu=1,\n",
    "    p_min_pu=-1,\n",
    "    efficiency_store=0.9,\n",
    "    efficiency_dispatch=0.95,\n",
    "    standing_loss=0.01,\n",
    "    cyclic_state_of_charge=True,\n",
    "    max_hours=6,\n",
    ")\n",
    "network.lopf()"
   ]
  },
  {
   "cell_type": "code",
   "execution_count": null,
   "metadata": {},
   "outputs": [],
   "source": [
    "network2.objective"
   ]
  },
  {
   "cell_type": "code",
   "execution_count": null,
   "metadata": {},
   "outputs": [],
   "source": [
    "network.loads_t"
   ]
  },
  {
   "cell_type": "code",
   "execution_count": null,
   "metadata": {},
   "outputs": [],
   "source": [
    "network_cost_per_MWh = 38.83336087757376\n",
    "new_demand = (network_cost_per_MWh - 100) / -300"
   ]
  },
  {
   "cell_type": "code",
   "execution_count": null,
   "metadata": {},
   "outputs": [],
   "source": [
    "import pypsa\n",
    "import pandas as pd\n",
    "import numpy as np\n",
    "\n",
    "base_load = 0.2\n",
    "all_networks = []\n",
    "\n",
    "for _ in range(6):\n",
    "    network = pypsa.Network()\n",
    "    network.set_snapshots(\n",
    "        pd.date_range(\"2023-01-01 04:00\", \"2023-01-01 20:00\", freq=\"H\")\n",
    "    )\n",
    "    network.add(\"Carrier\", \"solar\")\n",
    "    network.add(\"Carrier\", \"load\")\n",
    "    network.add(\"Carrier\", \"battery\")\n",
    "    network.add(\"Bus\", \"My bus\")\n",
    "    pv_pu = [\n",
    "        0.0,\n",
    "        0.0,\n",
    "        0.0,\n",
    "        0.2,\n",
    "        0.4,\n",
    "        0.65,\n",
    "        0.85,\n",
    "        0.9,\n",
    "        0.85,\n",
    "        0.65,\n",
    "        0.4,\n",
    "        0.3,\n",
    "        0.2,\n",
    "        0.1,\n",
    "        0.0,\n",
    "        0.0,\n",
    "        0.0,\n",
    "    ]\n",
    "    network.add(\n",
    "        \"Generator\",\n",
    "        \"solar\",\n",
    "        bus=\"My bus\",\n",
    "        p_nom=0.4,\n",
    "        carrier=\"solar\",\n",
    "        p_max_pu=pv_pu,\n",
    "        marginal_cost=0 + 0.01 * np.random.random(),\n",
    "    )\n",
    "    network.add(\n",
    "        \"Generator\",\n",
    "        \"load shedding\",\n",
    "        bus=\"My bus\",\n",
    "        p_nom=50,\n",
    "        carrier=\"load\",\n",
    "        p_max_pu=1.0,\n",
    "        marginal_cost=1e2,\n",
    "        p_nom_extendable=True,\n",
    "    )\n",
    "    load = pd.Series(\n",
    "        base_load, index=range(17)\n",
    "    )  # variable baseload based on base_load_values\n",
    "    network.add(\"Load\", \"baseload\", bus=\"My bus\", p_set=load.values)\n",
    "    network.add(\n",
    "        \"StorageUnit\",\n",
    "        \"smart thermostat\",\n",
    "        bus=\"My bus\",\n",
    "        p_nom=0,\n",
    "        carrier=\"battery\",\n",
    "        marginal_cost=4 * np.random.random(),\n",
    "        p_nom_extendable=True,\n",
    "        p_max_pu=1,\n",
    "        p_min_pu=-1,\n",
    "        efficiency_store=0.9,\n",
    "        efficiency_dispatch=0.95,\n",
    "        standing_loss=0.01,\n",
    "        cyclic_state_of_charge=True,\n",
    "        max_hours=6,\n",
    "    )\n",
    "    network.lopf()\n",
    "\n",
    "    network_cost_per_MWh = (\n",
    "        network.objective + network.objective_constant\n",
    "    ) / network.loads_t.p.sum().sum()\n",
    "    new_load = (network_cost_per_MWh - 120) / -300\n",
    "    base_load = new_load\n",
    "\n",
    "    all_networks.append(network)"
   ]
  },
  {
   "cell_type": "code",
   "execution_count": null,
   "metadata": {},
   "outputs": [],
   "source": [
    "# Access individual networks using indices in the list\n",
    "network1 = all_networks[0]\n",
    "network2 = all_networks[1]\n",
    "network3 = all_networks[2]\n",
    "network4 = all_networks[3]\n",
    "network5 = all_networks[4]"
   ]
  },
  {
   "cell_type": "code",
   "execution_count": null,
   "metadata": {},
   "outputs": [],
   "source": [
    "for n in all_networks:\n",
    "    print(\n",
    "        n.loads_t.p.mean().sum(),\n",
    "        (n.objective + n.objective_constant) / n.loads_t.p.sum().sum(),\n",
    "    )"
   ]
  },
  {
   "cell_type": "code",
   "execution_count": null,
   "metadata": {},
   "outputs": [],
   "source": [
    "import matplotlib.pyplot as plt\n",
    "import numpy as np\n",
    "\n",
    "average_loads = [\n",
    "    0.2,\n",
    "    0.2703326482352941,\n",
    "    0.22292292245788867,\n",
    "    0.2526923014259783,\n",
    "    0.23264138204969612,\n",
    "    0.24524702845523857,\n",
    "]\n",
    "costs_per_MWh = [\n",
    "    38.900205529411764,\n",
    "    53.1231232626334,\n",
    "    44.1923095722065,\n",
    "    50.207585385091164,\n",
    "    46.42589146342842,\n",
    "    48.69183750784179,\n",
    "]\n",
    "\n",
    "# Shift the values so the first price is associated with the second demand value, and so on\n",
    "shifted_average_loads = [average_loads[1]] + average_loads[:-1]\n",
    "\n",
    "# Scatter plot of the points\n",
    "plt.scatter(shifted_average_loads, costs_per_MWh, label=\"Scatter points\")\n",
    "\n",
    "# Arrows between the points\n",
    "for i in range(len(shifted_average_loads) - 1):\n",
    "    plt.arrow(\n",
    "        shifted_average_loads[i],\n",
    "        costs_per_MWh[i],\n",
    "        shifted_average_loads[i + 1] - shifted_average_loads[i],\n",
    "        costs_per_MWh[i + 1] - costs_per_MWh[i],\n",
    "        linestyle=\"--\",\n",
    "        lw=1,\n",
    "        color=\"gray\",\n",
    "        alpha=0.7,\n",
    "    )\n",
    "\n",
    "# Linear curve\n",
    "x = np.linspace(min(shifted_average_loads), max(shifted_average_loads), 100)\n",
    "y = -300 * x + 120\n",
    "plt.plot(x, y, label=\"Linear curve: cost_per_MWh=-300*new_demand+120\", color=\"red\")\n",
    "\n",
    "plt.xlabel(\"Average Load\")\n",
    "plt.ylabel(\"Cost per MWh\")\n",
    "plt.title(\"Average Load vs. Cost per MWh\")\n",
    "plt.legend()\n",
    "plt.show()"
   ]
  }
 ],
 "metadata": {
  "kernelspec": {
   "display_name": "",
   "language": "python",
   "name": ""
  },
  "language_info": {
   "codemirror_mode": {
    "name": "ipython",
    "version": 3
   },
   "file_extension": ".py",
   "mimetype": "text/x-python",
   "name": "python",
   "nbconvert_exporter": "python",
   "pygments_lexer": "ipython3",
   "version": "3.11.2"
  },
  "orig_nbformat": 4
 },
 "nbformat": 4,
 "nbformat_minor": 2
}
