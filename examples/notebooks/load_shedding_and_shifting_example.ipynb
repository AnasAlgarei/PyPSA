{
 "cells": [
  {
   "attachments": {},
   "cell_type": "markdown",
   "metadata": {},
   "source": [
    "# Load Shedding and Shifting Example"
   ]
  },
  {
   "attachments": {},
   "cell_type": "markdown",
   "metadata": {},
   "source": [
    "This example is a simple illustration that aims to explain the use of load shedding and load shifting in PyPSA. The example is designed to simulate a single day of electrical consumption in a small network with solar and wind generation, which could represent a single house or a small group of houses."
   ]
  },
  {
   "cell_type": "code",
   "execution_count": null,
   "metadata": {},
   "outputs": [],
   "source": [
    "import pypsa\n",
    "import matplotlib.pyplot as plt\n",
    "import random\n",
    "import datetime\n",
    "import numpy as np\n",
    "import pandas as pd"
   ]
  },
  {
   "attachments": {},
   "cell_type": "markdown",
   "metadata": {},
   "source": [
    "### Create network"
   ]
  },
  {
   "cell_type": "code",
   "execution_count": null,
   "metadata": {},
   "outputs": [],
   "source": [
    "network = pypsa.Network()"
   ]
  },
  {
   "attachments": {},
   "cell_type": "markdown",
   "metadata": {},
   "source": [
    "### Build the snapshots we consider for the first T hours in 2023\n"
   ]
  },
  {
   "cell_type": "code",
   "execution_count": null,
   "metadata": {},
   "outputs": [],
   "source": [
    "T = 24\n",
    "\n",
    "network.set_snapshots(\n",
    "    pd.to_datetime(\n",
    "        [datetime.datetime(2023, 1, 1) + datetime.timedelta(hours=i) for i in range(T)]\n",
    "    )\n",
    ")\n",
    "print(network.snapshots)"
   ]
  },
  {
   "attachments": {},
   "cell_type": "markdown",
   "metadata": {},
   "source": [
    "### Add fuel types"
   ]
  },
  {
   "cell_type": "code",
   "execution_count": null,
   "metadata": {},
   "outputs": [],
   "source": [
    "network.add(\"Carrier\", \"solar\")\n",
    "network.add(\"Carrier\", \"wind\")\n",
    "network.add(\"Carrier\", \"load\")\n",
    "network.add(\"Carrier\", \"battery\")"
   ]
  },
  {
   "attachments": {},
   "cell_type": "markdown",
   "metadata": {},
   "source": [
    "### Add buses"
   ]
  },
  {
   "cell_type": "code",
   "execution_count": null,
   "metadata": {},
   "outputs": [],
   "source": [
    "for i in range(4):\n",
    "    network.add(\"Bus\", \"My bus {}\".format(i))\n",
    "# print(network.buses)"
   ]
  },
  {
   "attachments": {},
   "cell_type": "markdown",
   "metadata": {},
   "source": [
    "### Add lines"
   ]
  },
  {
   "cell_type": "code",
   "execution_count": null,
   "metadata": {},
   "outputs": [],
   "source": [
    "for i in range(4):\n",
    "    network.add(\n",
    "        \"Line\",\n",
    "        \"My line {}\".format(i),\n",
    "        bus0=\"My bus {}\".format(i),\n",
    "        bus1=\"My bus {}\".format((i + 1) % 3),\n",
    "        x=0.0001,\n",
    "        s_nom=60,\n",
    "    )\n",
    "\n",
    "# print(network.lines)"
   ]
  },
  {
   "attachments": {},
   "cell_type": "markdown",
   "metadata": {},
   "source": [
    "### Add generators"
   ]
  },
  {
   "attachments": {},
   "cell_type": "markdown",
   "metadata": {},
   "source": [
    "Wind generation per unit of capacity is made random to represent random wind generation during the day.\n",
    "\n",
    "Solar PV panel generation per unit of capacity is considered only in the daytime (8am-5pm)\n",
    "\n",
    "\"load\" is added as a generator to represent load shedding, which is lowering the demand, thus increasing the generation. Load shedding is required when the network generation cannot satisfy the demand needed"
   ]
  },
  {
   "cell_type": "code",
   "execution_count": null,
   "metadata": {},
   "outputs": [],
   "source": [
    "# Add wind generation\n",
    "rand_list = []\n",
    "for i in range(24):\n",
    "    rand_list.append(round(random.uniform(0.0, 1.0), 1))\n",
    "network.add(\n",
    "    \"Generator\",\n",
    "    \"wind\",\n",
    "    bus=\"My bus 0\",\n",
    "    p_nom=0.5,\n",
    "    carrier=\"wind\",\n",
    "    p_max_pu=rand_list,\n",
    "    marginal_cost=0 + 0.01 * np.random.random(),\n",
    ")\n",
    "\n",
    "# Add solar generation\n",
    "pv_pu = [\n",
    "    0.0,\n",
    "    0.0,\n",
    "    0.0,\n",
    "    0.0,\n",
    "    0.0,\n",
    "    0.0,\n",
    "    0.0,\n",
    "    0.0,\n",
    "    0.2,\n",
    "    0.4,\n",
    "    0.65,\n",
    "    0.85,\n",
    "    0.9,\n",
    "    0.85,\n",
    "    0.65,\n",
    "    0.4,\n",
    "    0.2,\n",
    "    0.1,\n",
    "    0.0,\n",
    "    0.0,\n",
    "    0.0,\n",
    "    0.0,\n",
    "    0.0,\n",
    "    0.0,\n",
    "]\n",
    "network.add(\n",
    "    \"Generator\",\n",
    "    \"solar\",\n",
    "    bus=\"My bus 2\",\n",
    "    p_nom=0.4,\n",
    "    carrier=\"solar\",\n",
    "    p_max_pu=pv_pu,\n",
    "    marginal_cost=0 + 0.01 * np.random.random(),\n",
    ")\n",
    "\n",
    "# Add load shedding as generator\n",
    "network.add(\n",
    "    \"Generator\",\n",
    "    \"load\",\n",
    "    bus=\"My bus 3\",\n",
    "    p_nom=50,\n",
    "    carrier=\"load\",\n",
    "    p_max_pu=1.0,\n",
    "    marginal_cost=1e2,\n",
    "    p_nom_extendable=True,\n",
    ")"
   ]
  },
  {
   "attachments": {},
   "cell_type": "markdown",
   "metadata": {},
   "source": [
    "### Add average hourly load values in a single day"
   ]
  },
  {
   "cell_type": "code",
   "execution_count": null,
   "metadata": {},
   "outputs": [],
   "source": [
    "load = [\n",
    "    0.1,\n",
    "    0.2,\n",
    "    0.15,\n",
    "    0.14,\n",
    "    0.13,\n",
    "    0.14,\n",
    "    0.15,\n",
    "    0.2,\n",
    "    0.4,\n",
    "    0.6,\n",
    "    0.61,\n",
    "    0.58,\n",
    "    0.52,\n",
    "    0.53,\n",
    "    0.5,\n",
    "    0.51,\n",
    "    0.58,\n",
    "    0.7,\n",
    "    0.77,\n",
    "    0.81,\n",
    "    0.8,\n",
    "    0.79,\n",
    "    0.65,\n",
    "    0.48,\n",
    "]\n",
    "network.add(\"Load\", \"Load 1\", bus=\"My bus 1\", p_set=load)"
   ]
  },
  {
   "cell_type": "code",
   "execution_count": null,
   "metadata": {},
   "outputs": [],
   "source": [
    "# Plot the load\n",
    "network.loads_t.p_set[\"Load 1\"].plot()"
   ]
  },
  {
   "attachments": {},
   "cell_type": "markdown",
   "metadata": {},
   "source": [
    "### Add storage units to the network"
   ]
  },
  {
   "attachments": {},
   "cell_type": "markdown",
   "metadata": {},
   "source": [
    "Storage units could be used to represent load shifting in PyPSA, where energy use is in peak hours is shifted to off-peak hours, which is a similar behaviour to discharging a storage unit in peak hours and charging it in off-peak hours.\n",
    "\n",
    "Smart thermostats can shift the timing of energy use by automatically reducing heating or cooling during peak demand periods and increasing it during off-peak periods."
   ]
  },
  {
   "cell_type": "code",
   "execution_count": null,
   "metadata": {},
   "outputs": [],
   "source": [
    "network.add(\n",
    "    \"StorageUnit\",\n",
    "    \"Smart thermostat\",\n",
    "    bus=\"My bus 3\",\n",
    "    p_nom=0,\n",
    "    carrier=\"battery\",\n",
    "    marginal_cost=4 * np.random.random(),\n",
    "    p_nom_extendable=True,\n",
    "    p_max_pu=1,\n",
    "    p_min_pu=-1,\n",
    "    efficiency_store=0.9,\n",
    "    efficiency_dispatch=0.95,\n",
    "    standing_loss=0.01,\n",
    "    cyclic_state_of_charge=True,\n",
    "    max_hours=6,\n",
    ")"
   ]
  },
  {
   "attachments": {},
   "cell_type": "markdown",
   "metadata": {},
   "source": [
    "### Optimize the network and plot some results"
   ]
  },
  {
   "cell_type": "code",
   "execution_count": null,
   "metadata": {},
   "outputs": [],
   "source": [
    "network.lopf()"
   ]
  },
  {
   "cell_type": "code",
   "execution_count": null,
   "metadata": {},
   "outputs": [],
   "source": [
    "network.generators_t.p.plot()"
   ]
  },
  {
   "cell_type": "code",
   "execution_count": null,
   "metadata": {},
   "outputs": [],
   "source": [
    "network.storage_units_t.p.plot()"
   ]
  }
 ],
 "metadata": {
  "kernelspec": {
   "display_name": "",
   "language": "python",
   "name": ""
  },
  "language_info": {
   "codemirror_mode": {
    "name": "ipython",
    "version": 3
   },
   "file_extension": ".py",
   "mimetype": "text/x-python",
   "name": "python",
   "nbconvert_exporter": "python",
   "pygments_lexer": "ipython3",
   "version": "3.10.8 | packaged by conda-forge | (main, Nov 22 2022, 08:26:04) [GCC 10.4.0]"
  },
  "orig_nbformat": 4,
  "vscode": {
   "interpreter": {
    "hash": "4bfd0647aac9d6062a08fe26bbfffd40985f1731d368a98fdd492e2c963157f6"
   }
  }
 },
 "nbformat": 4,
 "nbformat_minor": 2
}
