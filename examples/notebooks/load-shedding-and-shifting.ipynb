{
 "cells": [
  {
   "attachments": {},
   "cell_type": "markdown",
   "metadata": {},
   "source": [
    "# Load Shedding and Shifting Example"
   ]
  },
  {
   "attachments": {},
   "cell_type": "markdown",
   "metadata": {},
   "source": [
    "This example is a simple illustration that aims to explain the use of load shedding and load shifting in PyPSA. The example is designed to simulate a single day of electrical consumption in a small network with solar and wind generation, which could represent a single house or a small group of houses."
   ]
  },
  {
   "cell_type": "code",
   "execution_count": null,
   "metadata": {},
   "outputs": [],
   "source": [
    "import pypsa\n",
    "import matplotlib.pyplot as plt\n",
    "import random\n",
    "import numpy as np\n",
    "import pandas as pd"
   ]
  },
  {
   "attachments": {},
   "cell_type": "markdown",
   "metadata": {},
   "source": [
    "### Create network"
   ]
  },
  {
   "cell_type": "code",
   "execution_count": null,
   "metadata": {},
   "outputs": [],
   "source": [
    "network = pypsa.Network()"
   ]
  },
  {
   "attachments": {},
   "cell_type": "markdown",
   "metadata": {},
   "source": [
    "### Build the snapshots we consider for the first T hours in 2023\n"
   ]
  },
  {
   "cell_type": "code",
   "execution_count": null,
   "metadata": {},
   "outputs": [],
   "source": [
    "network.set_snapshots(\n",
    "    pd.date_range(\"2023-01-01 04:00\", \"2023-01-01 20:00\", freq=\"H\")\n",
    ")\n",
    "\n",
    "print(network.snapshots)"
   ]
  },
  {
   "attachments": {},
   "cell_type": "markdown",
   "metadata": {},
   "source": [
    "### Add fuel types"
   ]
  },
  {
   "cell_type": "code",
   "execution_count": null,
   "metadata": {},
   "outputs": [],
   "source": [
    "network.add(\"Carrier\", \"solar\")\n",
    "network.add(\"Carrier\", \"load\")\n",
    "network.add(\"Carrier\", \"battery\")"
   ]
  },
  {
   "attachments": {},
   "cell_type": "markdown",
   "metadata": {},
   "source": [
    "### Add buses"
   ]
  },
  {
   "cell_type": "code",
   "execution_count": null,
   "metadata": {},
   "outputs": [],
   "source": [
    "network.add(\"Bus\", \"My bus\")"
   ]
  },
  {
   "attachments": {},
   "cell_type": "markdown",
   "metadata": {},
   "source": [
    "### Add generators"
   ]
  },
  {
   "attachments": {},
   "cell_type": "markdown",
   "metadata": {},
   "source": [
    "Solar PV panel generation per unit of capacity is considered only in the daytime (8am-5pm)\n",
    "\n",
    "\"load\" is added a generator to represent load shedding, which is lowering the demand, thus increasing the generation. Load shedding is required when the network generation cannot satisfy the demand needed"
   ]
  },
  {
   "cell_type": "code",
   "execution_count": null,
   "metadata": {},
   "outputs": [],
   "source": [
    "# Add solar generation\n",
    "pv_pu = [\n",
    "    0.0,\n",
    "    0.0,\n",
    "    0.0,\n",
    "    0.2,\n",
    "    0.4,\n",
    "    0.65,\n",
    "    0.85,\n",
    "    0.9,\n",
    "    0.85,\n",
    "    0.65,\n",
    "    0.4,\n",
    "    0.3,\n",
    "    0.2,\n",
    "    0.1,\n",
    "    0.0,\n",
    "    0.0,\n",
    "    0.0,\n",
    "]\n",
    "network.add(\n",
    "    \"Generator\",\n",
    "    \"solar\",\n",
    "    bus=\"My bus\",\n",
    "    p_nom=0.4,\n",
    "    carrier=\"solar\",\n",
    "    p_max_pu=pv_pu,\n",
    "    marginal_cost=0 + 0.01 * np.random.random(),\n",
    ")\n",
    "\n",
    "# Add load shedding as generator\n",
    "network.add(\n",
    "    \"Generator\",\n",
    "    \"load shedding\",\n",
    "    bus=\"My bus\",\n",
    "    p_nom=50,\n",
    "    carrier=\"load\",\n",
    "    p_max_pu=1.0,\n",
    "    marginal_cost=1e2,\n",
    "    p_nom_extendable=True,\n",
    ")"
   ]
  },
  {
   "attachments": {},
   "cell_type": "markdown",
   "metadata": {},
   "source": [
    "### Add average hourly load values in a single day"
   ]
  },
  {
   "cell_type": "code",
   "execution_count": null,
   "metadata": {},
   "outputs": [],
   "source": [
    "load = pd.Series(0.2, index=range(17))  # constant baseload\n",
    "network.add(\"Load\", \"baseload\", bus=\"My bus\", p_set=load.values)"
   ]
  },
  {
   "attachments": {},
   "cell_type": "markdown",
   "metadata": {},
   "source": [
    "### Add storage units to the network"
   ]
  },
  {
   "attachments": {},
   "cell_type": "markdown",
   "metadata": {},
   "source": [
    "Storage units could be used to represent load shifting in PyPSA, where energy use is in peak hours is shifted to off-peak hours, which is a similar behaviour to discharging a storage unit in peak hours and charging it in off-peak hours.\n",
    "\n",
    "Smart thermostats can shift the timing of energy use by automatically reducing heating or cooling during peak demand periods and increasing it during off-peak periods."
   ]
  },
  {
   "cell_type": "code",
   "execution_count": null,
   "metadata": {},
   "outputs": [],
   "source": [
    "network.add(\n",
    "    \"StorageUnit\",\n",
    "    \"smart thermostat\",\n",
    "    bus=\"My bus\",\n",
    "    p_nom=0,\n",
    "    carrier=\"battery\",\n",
    "    marginal_cost=4 * np.random.random(),\n",
    "    p_nom_extendable=True,\n",
    "    p_max_pu=1,\n",
    "    p_min_pu=-1,\n",
    "    efficiency_store=0.9,\n",
    "    efficiency_dispatch=0.95,\n",
    "    standing_loss=0.01,\n",
    "    cyclic_state_of_charge=True,\n",
    "    max_hours=6,\n",
    ")"
   ]
  },
  {
   "attachments": {},
   "cell_type": "markdown",
   "metadata": {},
   "source": [
    "### Optimize the network and plot some results"
   ]
  },
  {
   "cell_type": "code",
   "execution_count": null,
   "metadata": {},
   "outputs": [],
   "source": [
    "network.lopf()"
   ]
  },
  {
   "cell_type": "code",
   "execution_count": null,
   "metadata": {},
   "outputs": [],
   "source": [
    "fig, ax = plt.subplots()\n",
    "\n",
    "network.generators_t.p.plot(ax=ax)\n",
    "network.storage_units_t.p.plot(ax=ax)\n",
    "network.loads_t.p.plot(ax=ax)\n",
    "\n",
    "ax.set_ylabel(\"Power (MW)\")"
   ]
  },
  {
   "attachments": {},
   "cell_type": "markdown",
   "metadata": {},
   "source": [
    "We can observe from the least cost solution the following:\n",
    "- The smart thermostat is increasing the demand during the peak solar generation, to save energy when there is a lack of supply\n",
    "- In the first and last hours of the day, load shedding is applied since there is not enough storage or generation available"
   ]
  }
 ],
 "metadata": {
  "kernelspec": {
   "display_name": "Python 3",
   "language": "python",
   "name": "python3"
  },
  "language_info": {
   "codemirror_mode": {
    "name": "ipython",
    "version": 3
   },
   "file_extension": ".py",
   "mimetype": "text/x-python",
   "name": "python",
   "nbconvert_exporter": "python",
   "pygments_lexer": "ipython3",
   "version": "3.10.8"
  },
  "orig_nbformat": 4
 },
 "nbformat": 4,
 "nbformat_minor": 2
}
